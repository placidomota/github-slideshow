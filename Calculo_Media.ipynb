{
  "nbformat": 4,
  "nbformat_minor": 0,
  "metadata": {
    "colab": {
      "name": "Calculo_Media",
      "provenance": [],
      "authorship_tag": "ABX9TyOoyBCo6qNlyAYTpAm8TMHL",
      "include_colab_link": true
    },
    "kernelspec": {
      "name": "python3",
      "display_name": "Python 3"
    },
    "language_info": {
      "name": "python"
    }
  },
  "cells": [
    {
      "cell_type": "markdown",
      "metadata": {
        "id": "view-in-github",
        "colab_type": "text"
      },
      "source": [
        "<a href=\"https://colab.research.google.com/github/placidomota/github-slideshow/blob/dependabot%2Fbundler%2Fnokogiri-1.11.1/Calculo_Media.ipynb\" target=\"_parent\"><img src=\"https://colab.research.google.com/assets/colab-badge.svg\" alt=\"Open In Colab\"/></a>"
      ]
    },
    {
      "cell_type": "markdown",
      "metadata": {
        "id": "jhD9wQc1_XmR"
      },
      "source": [
        ""
      ]
    },
    {
      "cell_type": "code",
      "metadata": {
        "id": "t7D30O-a7b7H"
      },
      "source": [
        "print(\"######Calculo da média entre dois numeros ###########\\n\")\n",
        "\n",
        "nome = input(\"Olá qual o seu nome?\\n\")\n",
        "print(\"Bem vindo \",nome,\"Vamos calcular sua média.\")\n",
        "n1 = int(input(\"Digite a primeira nota :\"))\n",
        "n2 = int(input(\"Digito a segunda nota :\"))\n",
        "media = (n1 + n2)/2\n",
        "\n",
        "if (media >= 7):\n",
        "  print(\"Parabéns você foi aprovado! sua nota média foi:\", media)\n",
        "else:\n",
        "  print(\"Você não foi aprovado !\\n sua nota média foi :\", media)"
      ],
      "execution_count": null,
      "outputs": []
    },
    {
      "cell_type": "code",
      "metadata": {
        "id": "mpFfZRNZGNQI"
      },
      "source": [
        ""
      ],
      "execution_count": null,
      "outputs": []
    }
  ]
}